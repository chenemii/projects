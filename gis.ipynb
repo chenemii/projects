{
 "cells": [
  {
   "cell_type": "code",
   "execution_count": null,
   "metadata": {},
   "outputs": [],
   "source": [
    "! pip3 install -q -U pandas shapely geopandas matplotlib"
   ]
  },
  {
   "cell_type": "code",
   "execution_count": null,
   "metadata": {},
   "outputs": [],
   "source": [
    "import geopandas as gpd\n",
    "import pandas as pd\n",
    "from shapely.geometry import Polygon\n",
    "\n",
    "# Step 1: Obtain the coordinates of the random shape\n",
    "# Load the CSV file\n",
    "csv_file = 'mapgeop.csv'  # Replace with your CSV file path\n",
    "data = pd.read_csv(csv_file, delimiter='\\,')\n",
    "\n",
    "# Load the GeoJSON file\n",
    "geojson_file = 'Addresses.geojson'  # Replace with your GeoJSON file path\n",
    "geo_data = gpd.read_file(geojson_file)\n",
    "\n",
    "# Function to find the coordinate of an address in the GeoJSON\n",
    "def find_coordinates(address, geo_data):\n",
    "    for feature in geo_data.iterfeatures():\n",
    "        if feature['properties']['SBL_ID'] == address:\n",
    "            return feature['geometry']['coordinates']\n",
    "    return None\n",
    "\n",
    "# Extract and match addresses\n",
    "data['Coordinates'] = data.apply(lambda row: find_coordinates(f\"{row['ID']}\", geo_data), axis=1)\n",
    "# drop na values\n",
    "data = data.dropna(subset=['Coordinates'])\n",
    "shape_coordinates = data['Coordinates']\n",
    "\n",
    "\n",
    "# Step 2: Create a polygon geometry from the shape coordinates\n",
    "shape_polygon = Polygon(shape_coordinates)\n",
    "\n",
    "# Step 3: Obtain address data\n",
    "address_data = gpd.read_file(\"Addresses.geojson\")\n",
    "\n",
    "# Step 4: Perform spatial join to select addresses within the random shape\n",
    "addresses_in_shape = gpd.sjoin(address_data, gpd.GeoDataFrame(geometry=[shape_polygon]), op=\"within\")\n",
    "addresses_in_shape.to_csv(\"selected_addresses.csv\", index=False)\n",
    "\n",
    "print(\"Addresses within the selected polygon exported successfully!\")"
   ]
  }
 ],
 "metadata": {
  "language_info": {
   "name": "python"
  },
  "orig_nbformat": 4
 },
 "nbformat": 4,
 "nbformat_minor": 2
}
